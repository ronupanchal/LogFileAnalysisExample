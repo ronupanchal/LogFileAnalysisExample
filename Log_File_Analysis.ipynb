{
  "nbformat": 4,
  "nbformat_minor": 0,
  "metadata": {
    "colab": {
      "name": "Log_File_Analysis.ipynb",
      "provenance": [],
      "collapsed_sections": [],
      "authorship_tag": "ABX9TyNsUc719RrLcA+9Y3HEcxrc",
      "include_colab_link": true
    },
    "kernelspec": {
      "name": "python3",
      "display_name": "Python 3"
    }
  },
  "cells": [
    {
      "cell_type": "markdown",
      "metadata": {
        "id": "view-in-github",
        "colab_type": "text"
      },
      "source": [
        "<a href=\"https://colab.research.google.com/github/ronupanchal/LogFileAnalysisExample/blob/master/Log_File_Analysis.ipynb\" target=\"_parent\"><img src=\"https://colab.research.google.com/assets/colab-badge.svg\" alt=\"Open In Colab\"/></a>"
      ]
    },
    {
      "cell_type": "code",
      "metadata": {
        "id": "Q8P7Q5QrST3_",
        "colab_type": "code",
        "colab": {
          "base_uri": "https://localhost:8080/",
          "height": 228
        },
        "outputId": "32c01dcd-a9bc-4b2a-e59c-bf02043f9e7b"
      },
      "source": [
        "pip install pyspark"
      ],
      "execution_count": 1,
      "outputs": [
        {
          "output_type": "stream",
          "text": [
            "Collecting pyspark\n",
            "\u001b[?25l  Downloading https://files.pythonhosted.org/packages/8e/b0/bf9020b56492281b9c9d8aae8f44ff51e1bc91b3ef5a884385cb4e389a40/pyspark-3.0.0.tar.gz (204.7MB)\n",
            "\u001b[K     |████████████████████████████████| 204.7MB 43kB/s \n",
            "\u001b[?25hCollecting py4j==0.10.9\n",
            "\u001b[?25l  Downloading https://files.pythonhosted.org/packages/9e/b6/6a4fb90cd235dc8e265a6a2067f2a2c99f0d91787f06aca4bcf7c23f3f80/py4j-0.10.9-py2.py3-none-any.whl (198kB)\n",
            "\u001b[K     |████████████████████████████████| 204kB 6.0MB/s \n",
            "\u001b[?25hBuilding wheels for collected packages: pyspark\n",
            "  Building wheel for pyspark (setup.py) ... \u001b[?25l\u001b[?25hdone\n",
            "  Created wheel for pyspark: filename=pyspark-3.0.0-py2.py3-none-any.whl size=205044182 sha256=e6ef57a031b4863b45a8c9a946c60777ae180b8c52144f81173ec3f2723f116b\n",
            "  Stored in directory: /root/.cache/pip/wheels/57/27/4d/ddacf7143f8d5b76c45c61ee2e43d9f8492fc5a8e78ebd7d37\n",
            "Successfully built pyspark\n",
            "Installing collected packages: py4j, pyspark\n",
            "Successfully installed py4j-0.10.9 pyspark-3.0.0\n"
          ],
          "name": "stdout"
        }
      ]
    },
    {
      "cell_type": "code",
      "metadata": {
        "id": "d3dVU_8aS-II",
        "colab_type": "code",
        "colab": {}
      },
      "source": [
        "# configure spark variables\n",
        "from pyspark.context import SparkContext\n",
        "from pyspark.sql.context import SQLContext\n",
        "from pyspark.sql.session import SparkSession\n",
        "   \n",
        "sc = SparkContext()\n",
        "sqlContext = SQLContext(sc)\n",
        "spark = SparkSession(sc)\n",
        "\n",
        "# load up other dependencies\n",
        "import re\n",
        "import pandas as pd"
      ],
      "execution_count": 2,
      "outputs": []
    },
    {
      "cell_type": "code",
      "metadata": {
        "id": "FQd5BEXhTOUU",
        "colab_type": "code",
        "colab": {
          "base_uri": "https://localhost:8080/",
          "height": 118
        },
        "outputId": "950d0467-e5c1-48d1-e0d6-8ed69912f089"
      },
      "source": [
        "from google.colab import drive\n",
        "drive.mount('/content/drive')"
      ],
      "execution_count": 3,
      "outputs": [
        {
          "output_type": "stream",
          "text": [
            "Go to this URL in a browser: https://accounts.google.com/o/oauth2/auth?client_id=947318989803-6bn6qk8qdgf4n4g3pfee6491hc0brc4i.apps.googleusercontent.com&redirect_uri=urn%3aietf%3awg%3aoauth%3a2.0%3aoob&response_type=code&scope=email%20https%3a%2f%2fwww.googleapis.com%2fauth%2fdocs.test%20https%3a%2f%2fwww.googleapis.com%2fauth%2fdrive%20https%3a%2f%2fwww.googleapis.com%2fauth%2fdrive.photos.readonly%20https%3a%2f%2fwww.googleapis.com%2fauth%2fpeopleapi.readonly\n",
            "\n",
            "Enter your authorization code:\n",
            "··········\n",
            "Mounted at /content/drive\n"
          ],
          "name": "stdout"
        }
      ]
    },
    {
      "cell_type": "code",
      "metadata": {
        "id": "5MTNX-RVTiCS",
        "colab_type": "code",
        "colab": {}
      },
      "source": [
        "#Change Directive\n",
        "import os\n",
        "os.chdir('/content/drive/My Drive/DS_Projects/NASA_access_log_Aug95/')"
      ],
      "execution_count": 19,
      "outputs": []
    },
    {
      "cell_type": "code",
      "metadata": {
        "id": "gSRs6XqyTlWw",
        "colab_type": "code",
        "colab": {
          "base_uri": "https://localhost:8080/",
          "height": 35
        },
        "outputId": "bd6b4cdd-e022-440b-cde3-05a01a18fa23"
      },
      "source": [
        "#get current part\n",
        "os.getcwd()"
      ],
      "execution_count": 20,
      "outputs": [
        {
          "output_type": "execute_result",
          "data": {
            "application/vnd.google.colaboratory.intrinsic": {
              "type": "string"
            },
            "text/plain": [
              "'/content/drive/My Drive/DS_Projects/NASA_access_log_Aug95'"
            ]
          },
          "metadata": {
            "tags": []
          },
          "execution_count": 20
        }
      ]
    },
    {
      "cell_type": "code",
      "metadata": {
        "id": "95Ho2BsDVh5e",
        "colab_type": "code",
        "colab": {}
      },
      "source": [
        "import sys\n",
        "from math import sqrt\n",
        "from pyspark.sql import SparkSession, functions, types, Row\n",
        "import re\n",
        "\n",
        "spark = SparkSession.builder.appName('correlate logs').getOrCreate()\n",
        "\n",
        "assert sys.version_info >= (3, 4) # make sure we have Python 3.4+\n",
        "assert spark.version >= '2.1' # make sure we have Spark 2.1+"
      ],
      "execution_count": 27,
      "outputs": []
    },
    {
      "cell_type": "code",
      "metadata": {
        "id": "hq0I0jZJTxLj",
        "colab_type": "code",
        "colab": {
          "base_uri": "https://localhost:8080/",
          "height": 50
        },
        "outputId": "512f0668-5a87-4e56-c175-a4557ebefeba"
      },
      "source": [
        "m = re.finditer(r'.*?(spark).*?', \"I'm searching for a spark in PySpark\", re.I)\n",
        "for match in m:\n",
        "    print(match, match.start(), match.end())"
      ],
      "execution_count": 28,
      "outputs": [
        {
          "output_type": "stream",
          "text": [
            "<_sre.SRE_Match object; span=(0, 25), match=\"I'm searching for a spark\"> 0 25\n",
            "<_sre.SRE_Match object; span=(25, 36), match=' in PySpark'> 25 36\n"
          ],
          "name": "stdout"
        }
      ]
    },
    {
      "cell_type": "code",
      "metadata": {
        "id": "vF8Dv2QlVy4p",
        "colab_type": "code",
        "colab": {
          "base_uri": "https://localhost:8080/",
          "height": 33
        },
        "outputId": "b0aa6a90-d4ea-42d1-af1b-f3716d580115"
      },
      "source": [
        "import glob\n",
        "\n",
        "raw_data_files = glob.glob('*.log')\n",
        "raw_data_files"
      ],
      "execution_count": 35,
      "outputs": [
        {
          "output_type": "execute_result",
          "data": {
            "text/plain": [
              "['access_log_Aug95.log']"
            ]
          },
          "metadata": {
            "tags": []
          },
          "execution_count": 35
        }
      ]
    },
    {
      "cell_type": "code",
      "metadata": {
        "id": "3-wB04emV6-c",
        "colab_type": "code",
        "colab": {
          "base_uri": "https://localhost:8080/",
          "height": 66
        },
        "outputId": "05eb0049-020e-4fff-dcbe-f76d6c9ccb47"
      },
      "source": [
        "base_df = spark.read.text(\"/content/drive/My Drive/DS_Projects/NASA_access_log_Aug95/access_log_Aug95.log\")\n",
        "base_df.printSchema()"
      ],
      "execution_count": 39,
      "outputs": [
        {
          "output_type": "stream",
          "text": [
            "root\n",
            " |-- value: string (nullable = true)\n",
            "\n"
          ],
          "name": "stdout"
        }
      ]
    },
    {
      "cell_type": "code",
      "metadata": {
        "id": "uoQyl1Hib2Mr",
        "colab_type": "code",
        "colab": {
          "base_uri": "https://localhost:8080/",
          "height": 33
        },
        "outputId": "71fb56b9-99c2-41bd-cfa8-268c8c122ae7"
      },
      "source": [
        "type(base_df)"
      ],
      "execution_count": 40,
      "outputs": [
        {
          "output_type": "execute_result",
          "data": {
            "text/plain": [
              "pyspark.sql.dataframe.DataFrame"
            ]
          },
          "metadata": {
            "tags": []
          },
          "execution_count": 40
        }
      ]
    },
    {
      "cell_type": "code",
      "metadata": {
        "id": "PYFxhfB2b8sF",
        "colab_type": "code",
        "colab": {
          "base_uri": "https://localhost:8080/",
          "height": 33
        },
        "outputId": "e77904c2-0722-49a5-e33e-1b436cb6f3ab"
      },
      "source": [
        "base_df_rdd = base_df.rdd\n",
        "type(base_df_rdd)"
      ],
      "execution_count": 41,
      "outputs": [
        {
          "output_type": "execute_result",
          "data": {
            "text/plain": [
              "pyspark.rdd.RDD"
            ]
          },
          "metadata": {
            "tags": []
          },
          "execution_count": 41
        }
      ]
    },
    {
      "cell_type": "code",
      "metadata": {
        "id": "8KNwKYQxb-H2",
        "colab_type": "code",
        "colab": {
          "base_uri": "https://localhost:8080/",
          "height": 277
        },
        "outputId": "7cef27a2-9840-4b5e-fccb-c3410e432f6d"
      },
      "source": [
        "base_df.show(10, truncate=False)"
      ],
      "execution_count": 42,
      "outputs": [
        {
          "output_type": "stream",
          "text": [
            "+--------------------------------------------------------------------------------------------------------------------------+\n",
            "|value                                                                                                                     |\n",
            "+--------------------------------------------------------------------------------------------------------------------------+\n",
            "|in24.inetnebr.com - - [01/Aug/1995:00:00:01 -0400] \"GET /shuttle/missions/sts-68/news/sts-68-mcc-05.txt HTTP/1.0\" 200 1839|\n",
            "|uplherc.upl.com - - [01/Aug/1995:00:00:07 -0400] \"GET / HTTP/1.0\" 304 0                                                   |\n",
            "|uplherc.upl.com - - [01/Aug/1995:00:00:08 -0400] \"GET /images/ksclogo-medium.gif HTTP/1.0\" 304 0                          |\n",
            "|uplherc.upl.com - - [01/Aug/1995:00:00:08 -0400] \"GET /images/MOSAIC-logosmall.gif HTTP/1.0\" 304 0                        |\n",
            "|uplherc.upl.com - - [01/Aug/1995:00:00:08 -0400] \"GET /images/USA-logosmall.gif HTTP/1.0\" 304 0                           |\n",
            "|ix-esc-ca2-07.ix.netcom.com - - [01/Aug/1995:00:00:09 -0400] \"GET /images/launch-logo.gif HTTP/1.0\" 200 1713              |\n",
            "|uplherc.upl.com - - [01/Aug/1995:00:00:10 -0400] \"GET /images/WORLD-logosmall.gif HTTP/1.0\" 304 0                         |\n",
            "|slppp6.intermind.net - - [01/Aug/1995:00:00:10 -0400] \"GET /history/skylab/skylab.html HTTP/1.0\" 200 1687                 |\n",
            "|piweba4y.prodigy.com - - [01/Aug/1995:00:00:10 -0400] \"GET /images/launchmedium.gif HTTP/1.0\" 200 11853                   |\n",
            "|slppp6.intermind.net - - [01/Aug/1995:00:00:11 -0400] \"GET /history/skylab/skylab-small.gif HTTP/1.0\" 200 9202            |\n",
            "+--------------------------------------------------------------------------------------------------------------------------+\n",
            "only showing top 10 rows\n",
            "\n"
          ],
          "name": "stdout"
        }
      ]
    },
    {
      "cell_type": "code",
      "metadata": {
        "id": "yzBkhGdhcEaZ",
        "colab_type": "code",
        "colab": {
          "base_uri": "https://localhost:8080/",
          "height": 180
        },
        "outputId": "98749529-5c94-4c2e-e410-36a46192938c"
      },
      "source": [
        "base_df_rdd.take(10)"
      ],
      "execution_count": 43,
      "outputs": [
        {
          "output_type": "execute_result",
          "data": {
            "text/plain": [
              "[Row(value='in24.inetnebr.com - - [01/Aug/1995:00:00:01 -0400] \"GET /shuttle/missions/sts-68/news/sts-68-mcc-05.txt HTTP/1.0\" 200 1839'),\n",
              " Row(value='uplherc.upl.com - - [01/Aug/1995:00:00:07 -0400] \"GET / HTTP/1.0\" 304 0'),\n",
              " Row(value='uplherc.upl.com - - [01/Aug/1995:00:00:08 -0400] \"GET /images/ksclogo-medium.gif HTTP/1.0\" 304 0'),\n",
              " Row(value='uplherc.upl.com - - [01/Aug/1995:00:00:08 -0400] \"GET /images/MOSAIC-logosmall.gif HTTP/1.0\" 304 0'),\n",
              " Row(value='uplherc.upl.com - - [01/Aug/1995:00:00:08 -0400] \"GET /images/USA-logosmall.gif HTTP/1.0\" 304 0'),\n",
              " Row(value='ix-esc-ca2-07.ix.netcom.com - - [01/Aug/1995:00:00:09 -0400] \"GET /images/launch-logo.gif HTTP/1.0\" 200 1713'),\n",
              " Row(value='uplherc.upl.com - - [01/Aug/1995:00:00:10 -0400] \"GET /images/WORLD-logosmall.gif HTTP/1.0\" 304 0'),\n",
              " Row(value='slppp6.intermind.net - - [01/Aug/1995:00:00:10 -0400] \"GET /history/skylab/skylab.html HTTP/1.0\" 200 1687'),\n",
              " Row(value='piweba4y.prodigy.com - - [01/Aug/1995:00:00:10 -0400] \"GET /images/launchmedium.gif HTTP/1.0\" 200 11853'),\n",
              " Row(value='slppp6.intermind.net - - [01/Aug/1995:00:00:11 -0400] \"GET /history/skylab/skylab-small.gif HTTP/1.0\" 200 9202')]"
            ]
          },
          "metadata": {
            "tags": []
          },
          "execution_count": 43
        }
      ]
    },
    {
      "cell_type": "markdown",
      "metadata": {
        "id": "WTQUhD7Bk8nV",
        "colab_type": "text"
      },
      "source": [
        "### 1. How many data records are in your final dataset? "
      ]
    },
    {
      "cell_type": "markdown",
      "metadata": {
        "id": "oJF6gvdgcu64",
        "colab_type": "text"
      },
      "source": [
        "Now that we have loaded and viewed our log data, let’s process and wrangle it.\n",
        "\n",
        "**Data Wrangling**"
      ]
    },
    {
      "cell_type": "code",
      "metadata": {
        "id": "NE6BY46DcLJt",
        "colab_type": "code",
        "colab": {
          "base_uri": "https://localhost:8080/",
          "height": 33
        },
        "outputId": "48460f0b-d2d3-434e-a0e2-0f1194c8875b"
      },
      "source": [
        "print((base_df.count(), len(base_df.columns)))"
      ],
      "execution_count": 44,
      "outputs": [
        {
          "output_type": "stream",
          "text": [
            "(1569898, 1)\n"
          ],
          "name": "stdout"
        }
      ]
    },
    {
      "cell_type": "code",
      "metadata": {
        "id": "pb78NN_2c9ZR",
        "colab_type": "code",
        "colab": {
          "base_uri": "https://localhost:8080/",
          "height": 261
        },
        "outputId": "f51c1c59-65f6-47fb-f460-fc9f2fb3f29c"
      },
      "source": [
        "sample_logs = [item['value'] for item in base_df.take(15)]\n",
        "sample_logs"
      ],
      "execution_count": 45,
      "outputs": [
        {
          "output_type": "execute_result",
          "data": {
            "text/plain": [
              "['in24.inetnebr.com - - [01/Aug/1995:00:00:01 -0400] \"GET /shuttle/missions/sts-68/news/sts-68-mcc-05.txt HTTP/1.0\" 200 1839',\n",
              " 'uplherc.upl.com - - [01/Aug/1995:00:00:07 -0400] \"GET / HTTP/1.0\" 304 0',\n",
              " 'uplherc.upl.com - - [01/Aug/1995:00:00:08 -0400] \"GET /images/ksclogo-medium.gif HTTP/1.0\" 304 0',\n",
              " 'uplherc.upl.com - - [01/Aug/1995:00:00:08 -0400] \"GET /images/MOSAIC-logosmall.gif HTTP/1.0\" 304 0',\n",
              " 'uplherc.upl.com - - [01/Aug/1995:00:00:08 -0400] \"GET /images/USA-logosmall.gif HTTP/1.0\" 304 0',\n",
              " 'ix-esc-ca2-07.ix.netcom.com - - [01/Aug/1995:00:00:09 -0400] \"GET /images/launch-logo.gif HTTP/1.0\" 200 1713',\n",
              " 'uplherc.upl.com - - [01/Aug/1995:00:00:10 -0400] \"GET /images/WORLD-logosmall.gif HTTP/1.0\" 304 0',\n",
              " 'slppp6.intermind.net - - [01/Aug/1995:00:00:10 -0400] \"GET /history/skylab/skylab.html HTTP/1.0\" 200 1687',\n",
              " 'piweba4y.prodigy.com - - [01/Aug/1995:00:00:10 -0400] \"GET /images/launchmedium.gif HTTP/1.0\" 200 11853',\n",
              " 'slppp6.intermind.net - - [01/Aug/1995:00:00:11 -0400] \"GET /history/skylab/skylab-small.gif HTTP/1.0\" 200 9202',\n",
              " 'slppp6.intermind.net - - [01/Aug/1995:00:00:12 -0400] \"GET /images/ksclogosmall.gif HTTP/1.0\" 200 3635',\n",
              " 'ix-esc-ca2-07.ix.netcom.com - - [01/Aug/1995:00:00:12 -0400] \"GET /history/apollo/images/apollo-logo1.gif HTTP/1.0\" 200 1173',\n",
              " 'slppp6.intermind.net - - [01/Aug/1995:00:00:13 -0400] \"GET /history/apollo/images/apollo-logo.gif HTTP/1.0\" 200 3047',\n",
              " 'uplherc.upl.com - - [01/Aug/1995:00:00:14 -0400] \"GET /images/NASA-logosmall.gif HTTP/1.0\" 304 0',\n",
              " '133.43.96.45 - - [01/Aug/1995:00:00:16 -0400] \"GET /shuttle/missions/sts-69/mission-sts-69.html HTTP/1.0\" 200 10566']"
            ]
          },
          "metadata": {
            "tags": []
          },
          "execution_count": 45
        }
      ]
    },
    {
      "cell_type": "code",
      "metadata": {
        "id": "gWnD0BxMdBkH",
        "colab_type": "code",
        "colab": {
          "base_uri": "https://localhost:8080/",
          "height": 261
        },
        "outputId": "42acfff6-6fcb-43e3-8820-7db4c3ec0c50"
      },
      "source": [
        "#Extracting hostnames\n",
        "\n",
        "host_pattern = r'(^\\S+\\.[\\S+\\.]+\\S+)\\s'\n",
        "hosts = [re.search(host_pattern, item).group(1)\n",
        "           if re.search(host_pattern, item)\n",
        "           else 'no match'\n",
        "           for item in sample_logs]\n",
        "hosts"
      ],
      "execution_count": 46,
      "outputs": [
        {
          "output_type": "execute_result",
          "data": {
            "text/plain": [
              "['in24.inetnebr.com',\n",
              " 'uplherc.upl.com',\n",
              " 'uplherc.upl.com',\n",
              " 'uplherc.upl.com',\n",
              " 'uplherc.upl.com',\n",
              " 'ix-esc-ca2-07.ix.netcom.com',\n",
              " 'uplherc.upl.com',\n",
              " 'slppp6.intermind.net',\n",
              " 'piweba4y.prodigy.com',\n",
              " 'slppp6.intermind.net',\n",
              " 'slppp6.intermind.net',\n",
              " 'ix-esc-ca2-07.ix.netcom.com',\n",
              " 'slppp6.intermind.net',\n",
              " 'uplherc.upl.com',\n",
              " '133.43.96.45']"
            ]
          },
          "metadata": {
            "tags": []
          },
          "execution_count": 46
        }
      ]
    },
    {
      "cell_type": "code",
      "metadata": {
        "id": "BkQVyi7ydF78",
        "colab_type": "code",
        "colab": {
          "base_uri": "https://localhost:8080/",
          "height": 261
        },
        "outputId": "b816a995-ce95-4b34-d5e7-d6eae08c516a"
      },
      "source": [
        "#Extracting timestamps\n",
        "ts_pattern = r'\\[(\\d{2}/\\w{3}/\\d{4}:\\d{2}:\\d{2}:\\d{2} -\\d{4})]'\n",
        "timestamps = [re.search(ts_pattern, item).group(1) for item in sample_logs]\n",
        "timestamps\n"
      ],
      "execution_count": 47,
      "outputs": [
        {
          "output_type": "execute_result",
          "data": {
            "text/plain": [
              "['01/Aug/1995:00:00:01 -0400',\n",
              " '01/Aug/1995:00:00:07 -0400',\n",
              " '01/Aug/1995:00:00:08 -0400',\n",
              " '01/Aug/1995:00:00:08 -0400',\n",
              " '01/Aug/1995:00:00:08 -0400',\n",
              " '01/Aug/1995:00:00:09 -0400',\n",
              " '01/Aug/1995:00:00:10 -0400',\n",
              " '01/Aug/1995:00:00:10 -0400',\n",
              " '01/Aug/1995:00:00:10 -0400',\n",
              " '01/Aug/1995:00:00:11 -0400',\n",
              " '01/Aug/1995:00:00:12 -0400',\n",
              " '01/Aug/1995:00:00:12 -0400',\n",
              " '01/Aug/1995:00:00:13 -0400',\n",
              " '01/Aug/1995:00:00:14 -0400',\n",
              " '01/Aug/1995:00:00:16 -0400']"
            ]
          },
          "metadata": {
            "tags": []
          },
          "execution_count": 47
        }
      ]
    },
    {
      "cell_type": "code",
      "metadata": {
        "id": "ApWXjdTzdKOu",
        "colab_type": "code",
        "colab": {
          "base_uri": "https://localhost:8080/",
          "height": 261
        },
        "outputId": "c7607339-eac1-49aa-bafa-d3d0eb6d6137"
      },
      "source": [
        "#Extracting HTTP request method, URIs, and protocol\n",
        "method_uri_protocol_pattern = r'\\\"(\\S+)\\s(\\S+)\\s*(\\S*)\\\"'\n",
        "method_uri_protocol = [re.search(method_uri_protocol_pattern, item).groups()\n",
        "               if re.search(method_uri_protocol_pattern, item)\n",
        "               else 'no match'\n",
        "              for item in sample_logs]\n",
        "method_uri_protocol\n"
      ],
      "execution_count": 48,
      "outputs": [
        {
          "output_type": "execute_result",
          "data": {
            "text/plain": [
              "[('GET', '/shuttle/missions/sts-68/news/sts-68-mcc-05.txt', 'HTTP/1.0'),\n",
              " ('GET', '/', 'HTTP/1.0'),\n",
              " ('GET', '/images/ksclogo-medium.gif', 'HTTP/1.0'),\n",
              " ('GET', '/images/MOSAIC-logosmall.gif', 'HTTP/1.0'),\n",
              " ('GET', '/images/USA-logosmall.gif', 'HTTP/1.0'),\n",
              " ('GET', '/images/launch-logo.gif', 'HTTP/1.0'),\n",
              " ('GET', '/images/WORLD-logosmall.gif', 'HTTP/1.0'),\n",
              " ('GET', '/history/skylab/skylab.html', 'HTTP/1.0'),\n",
              " ('GET', '/images/launchmedium.gif', 'HTTP/1.0'),\n",
              " ('GET', '/history/skylab/skylab-small.gif', 'HTTP/1.0'),\n",
              " ('GET', '/images/ksclogosmall.gif', 'HTTP/1.0'),\n",
              " ('GET', '/history/apollo/images/apollo-logo1.gif', 'HTTP/1.0'),\n",
              " ('GET', '/history/apollo/images/apollo-logo.gif', 'HTTP/1.0'),\n",
              " ('GET', '/images/NASA-logosmall.gif', 'HTTP/1.0'),\n",
              " ('GET', '/shuttle/missions/sts-69/mission-sts-69.html', 'HTTP/1.0')]"
            ]
          },
          "metadata": {
            "tags": []
          },
          "execution_count": 48
        }
      ]
    },
    {
      "cell_type": "code",
      "metadata": {
        "id": "oMEh4CnTdPdM",
        "colab_type": "code",
        "colab": {
          "base_uri": "https://localhost:8080/",
          "height": 33
        },
        "outputId": "da3d886b-c39c-4730-f34b-ac3b1839d1f8"
      },
      "source": [
        "#Extracting HTTP status codes\n",
        "status_pattern = r'\\s(\\d{3})\\s'\n",
        "status = [re.search(status_pattern, item).group(1) for item in sample_logs]\n",
        "print(status)"
      ],
      "execution_count": 49,
      "outputs": [
        {
          "output_type": "stream",
          "text": [
            "['200', '304', '304', '304', '304', '200', '304', '200', '200', '200', '200', '200', '200', '304', '200']\n"
          ],
          "name": "stdout"
        }
      ]
    },
    {
      "cell_type": "code",
      "metadata": {
        "id": "DG8JNSTMdoVn",
        "colab_type": "code",
        "colab": {
          "base_uri": "https://localhost:8080/",
          "height": 33
        },
        "outputId": "3f2d87c9-627a-4738-e173-bf514c816b07"
      },
      "source": [
        "# Extracting HTTP response content size\n",
        "content_size_pattern = r'\\s(\\d+)$'\n",
        "content_size = [re.search(content_size_pattern, item).group(1) for item in sample_logs]\n",
        "print(content_size)"
      ],
      "execution_count": 50,
      "outputs": [
        {
          "output_type": "stream",
          "text": [
            "['1839', '0', '0', '0', '0', '1713', '0', '1687', '11853', '9202', '3635', '1173', '3047', '0', '10566']\n"
          ],
          "name": "stdout"
        }
      ]
    },
    {
      "cell_type": "markdown",
      "metadata": {
        "id": "moXjpBnrdyv8",
        "colab_type": "text"
      },
      "source": [
        "**Putting it all together**"
      ]
    },
    {
      "cell_type": "code",
      "metadata": {
        "id": "knMxNyhVdvBA",
        "colab_type": "code",
        "colab": {
          "base_uri": "https://localhost:8080/",
          "height": 293
        },
        "outputId": "ed0c9d54-2db1-4637-c604-9e48958cbe34"
      },
      "source": [
        "from pyspark.sql.functions import regexp_extract\n",
        "\n",
        "logs_df = base_df.select(regexp_extract('value', host_pattern, 1).alias('host'),\n",
        "                         regexp_extract('value', ts_pattern, 1).alias('timestamp'),\n",
        "                         regexp_extract('value', method_uri_protocol_pattern, 1).alias('method'),\n",
        "                         regexp_extract('value', method_uri_protocol_pattern, 2).alias('endpoint'),\n",
        "                         regexp_extract('value', method_uri_protocol_pattern, 3).alias('protocol'),\n",
        "                         regexp_extract('value', status_pattern, 1).cast('integer').alias('status'),\n",
        "                         regexp_extract('value', content_size_pattern, 1).cast('integer').alias('content_size'))\n",
        "logs_df.show(10, truncate=True)\n",
        "print((logs_df.count(), len(logs_df.columns)))"
      ],
      "execution_count": 51,
      "outputs": [
        {
          "output_type": "stream",
          "text": [
            "+--------------------+--------------------+------+--------------------+--------+------+------------+\n",
            "|                host|           timestamp|method|            endpoint|protocol|status|content_size|\n",
            "+--------------------+--------------------+------+--------------------+--------+------+------------+\n",
            "|   in24.inetnebr.com|01/Aug/1995:00:00...|   GET|/shuttle/missions...|HTTP/1.0|   200|        1839|\n",
            "|     uplherc.upl.com|01/Aug/1995:00:00...|   GET|                   /|HTTP/1.0|   304|           0|\n",
            "|     uplherc.upl.com|01/Aug/1995:00:00...|   GET|/images/ksclogo-m...|HTTP/1.0|   304|           0|\n",
            "|     uplherc.upl.com|01/Aug/1995:00:00...|   GET|/images/MOSAIC-lo...|HTTP/1.0|   304|           0|\n",
            "|     uplherc.upl.com|01/Aug/1995:00:00...|   GET|/images/USA-logos...|HTTP/1.0|   304|           0|\n",
            "|ix-esc-ca2-07.ix....|01/Aug/1995:00:00...|   GET|/images/launch-lo...|HTTP/1.0|   200|        1713|\n",
            "|     uplherc.upl.com|01/Aug/1995:00:00...|   GET|/images/WORLD-log...|HTTP/1.0|   304|           0|\n",
            "|slppp6.intermind.net|01/Aug/1995:00:00...|   GET|/history/skylab/s...|HTTP/1.0|   200|        1687|\n",
            "|piweba4y.prodigy.com|01/Aug/1995:00:00...|   GET|/images/launchmed...|HTTP/1.0|   200|       11853|\n",
            "|slppp6.intermind.net|01/Aug/1995:00:00...|   GET|/history/skylab/s...|HTTP/1.0|   200|        9202|\n",
            "+--------------------+--------------------+------+--------------------+--------+------+------------+\n",
            "only showing top 10 rows\n",
            "\n",
            "(1569898, 7)\n"
          ],
          "name": "stdout"
        }
      ]
    },
    {
      "cell_type": "markdown",
      "metadata": {
        "id": "Oy7BgetFeAqw",
        "colab_type": "text"
      },
      "source": [
        "**Finding missing values**"
      ]
    },
    {
      "cell_type": "code",
      "metadata": {
        "id": "6Afn7R8rd_aT",
        "colab_type": "code",
        "colab": {
          "base_uri": "https://localhost:8080/",
          "height": 33
        },
        "outputId": "64b74389-dd08-4b1d-bd6f-a1ef2fc4de54"
      },
      "source": [
        "(base_df\n",
        "    .filter(base_df['value']\n",
        "                .isNull())\n",
        "    .count())"
      ],
      "execution_count": 52,
      "outputs": [
        {
          "output_type": "execute_result",
          "data": {
            "text/plain": [
              "0"
            ]
          },
          "metadata": {
            "tags": []
          },
          "execution_count": 52
        }
      ]
    },
    {
      "cell_type": "markdown",
      "metadata": {
        "id": "2XsQ01L2eN_F",
        "colab_type": "text"
      },
      "source": [
        "All good! Now, if our data parsing and extraction worked properly, we should not have any rows with potential null values. Let’s try and put that to test:"
      ]
    },
    {
      "cell_type": "code",
      "metadata": {
        "id": "CBzY_ZEBd7K1",
        "colab_type": "code",
        "colab": {
          "base_uri": "https://localhost:8080/",
          "height": 33
        },
        "outputId": "a3f50c57-c8e9-4d48-e5fa-110147b05fc3"
      },
      "source": [
        "bad_rows_df = logs_df.filter(logs_df['host'].isNull()|\n",
        "                             logs_df['timestamp'].isNull() |                            \n",
        "                             logs_df['status'].isNull() |\n",
        "                             logs_df['content_size'].isNull())\n",
        "                            \n",
        "bad_rows_df.count()"
      ],
      "execution_count": 53,
      "outputs": [
        {
          "output_type": "execute_result",
          "data": {
            "text/plain": [
              "14178"
            ]
          },
          "metadata": {
            "tags": []
          },
          "execution_count": 53
        }
      ]
    },
    {
      "cell_type": "code",
      "metadata": {
        "id": "OWInKUBUe4AP",
        "colab_type": "code",
        "colab": {
          "base_uri": "https://localhost:8080/",
          "height": 98
        },
        "outputId": "1f267e63-983a-4989-dc0e-c602801b6cbf"
      },
      "source": [
        "bad_rows_df.head(5)"
      ],
      "execution_count": 56,
      "outputs": [
        {
          "output_type": "execute_result",
          "data": {
            "text/plain": [
              "[Row(host='gw1.att.com', timestamp='01/Aug/1995:00:03:53 -0400', method='GET', endpoint='/shuttle/missions/sts-73/news', protocol='HTTP/1.0', status=302, content_size=None),\n",
              " Row(host='js002.cc.utsunomiya-u.ac.jp', timestamp='01/Aug/1995:00:07:33 -0400', method='GET', endpoint='/shuttle/resources/orbiters/discovery.gif', protocol='HTTP/1.0', status=404, content_size=None),\n",
              " Row(host='tia1.eskimo.com', timestamp='01/Aug/1995:00:28:41 -0400', method='GET', endpoint='/pub/winvn/release.txt', protocol='HTTP/1.0', status=404, content_size=None),\n",
              " Row(host='itws.info.eng.niigata-u.ac.jp', timestamp='01/Aug/1995:00:38:01 -0400', method='GET', endpoint='/ksc.html/facts/about_ksc.html', protocol='HTTP/1.0', status=403, content_size=None),\n",
              " Row(host='grimnet23.idirect.com', timestamp='01/Aug/1995:00:50:12 -0400', method='GET', endpoint='/www/software/winvn/winvn.html', protocol='HTTP/1.0', status=404, content_size=None)]"
            ]
          },
          "metadata": {
            "tags": []
          },
          "execution_count": 56
        }
      ]
    },
    {
      "cell_type": "markdown",
      "metadata": {
        "id": "1ASMyXlueqzQ",
        "colab_type": "text"
      },
      "source": [
        "### Finding null counts"
      ]
    },
    {
      "cell_type": "code",
      "metadata": {
        "id": "dnRWMsVHepxN",
        "colab_type": "code",
        "colab": {
          "base_uri": "https://localhost:8080/",
          "height": 115
        },
        "outputId": "9cd282aa-a267-4d7c-ccf6-6a297453799c"
      },
      "source": [
        "from pyspark.sql.functions import col\n",
        "from pyspark.sql.functions import sum as spark_sum\n",
        "\n",
        "def count_null(col_name):\n",
        "    return spark_sum(col(col_name).isNull().cast('integer')).alias(col_name)\n",
        "\n",
        "# Build up a list of column expressions, one per column.\n",
        "exprs = [count_null(col_name) for col_name in logs_df.columns]\n",
        "\n",
        "# Run the aggregation. The *exprs converts the list of expressions into\n",
        "# variable function arguments.\n",
        "logs_df.agg(*exprs).show()"
      ],
      "execution_count": 54,
      "outputs": [
        {
          "output_type": "stream",
          "text": [
            "+----+---------+------+--------+--------+------+------------+\n",
            "|host|timestamp|method|endpoint|protocol|status|content_size|\n",
            "+----+---------+------+--------+--------+------+------------+\n",
            "|   0|        0|     0|       0|       0|     0|       14178|\n",
            "+----+---------+------+--------+--------+------+------------+\n",
            "\n"
          ],
          "name": "stdout"
        }
      ]
    },
    {
      "cell_type": "markdown",
      "metadata": {
        "id": "Z1v9gunufPIe",
        "colab_type": "text"
      },
      "source": [
        "### Handling nulls in HTTP content size"
      ]
    },
    {
      "cell_type": "code",
      "metadata": {
        "id": "SnDVkbque-Vi",
        "colab_type": "code",
        "colab": {
          "base_uri": "https://localhost:8080/",
          "height": 33
        },
        "outputId": "59ad9762-9c9d-4f72-d56e-105cf63e2113"
      },
      "source": [
        "regexp_extract('value', r'\\s(\\d+)$', 1).cast('integer').alias('content_size')"
      ],
      "execution_count": 58,
      "outputs": [
        {
          "output_type": "execute_result",
          "data": {
            "text/plain": [
              "Column<b'CAST(regexp_extract(value, \\\\s(\\\\d+)$, 1) AS INT) AS `content_size`'>"
            ]
          },
          "metadata": {
            "tags": []
          },
          "execution_count": 58
        }
      ]
    },
    {
      "cell_type": "code",
      "metadata": {
        "id": "HVesJaOwfW5A",
        "colab_type": "code",
        "colab": {
          "base_uri": "https://localhost:8080/",
          "height": 33
        },
        "outputId": "21b3f416-99fb-47fb-c21e-10dd28f91226"
      },
      "source": [
        "# find the records with potential missing content sizes in our base DataFrame:\n",
        "null_content_size_df = base_df.filter(~base_df['value'].rlike(r'\\s\\d+$'))\n",
        "null_content_size_df.count()"
      ],
      "execution_count": 59,
      "outputs": [
        {
          "output_type": "execute_result",
          "data": {
            "text/plain": [
              "14178"
            ]
          },
          "metadata": {
            "tags": []
          },
          "execution_count": 59
        }
      ]
    },
    {
      "cell_type": "code",
      "metadata": {
        "id": "mGdNIjEqfgeX",
        "colab_type": "code",
        "colab": {
          "base_uri": "https://localhost:8080/",
          "height": 180
        },
        "outputId": "dde09043-7486-42ba-b398-1101e4e9a7ad"
      },
      "source": [
        "null_content_size_df.take(10)"
      ],
      "execution_count": 60,
      "outputs": [
        {
          "output_type": "execute_result",
          "data": {
            "text/plain": [
              "[Row(value='gw1.att.com - - [01/Aug/1995:00:03:53 -0400] \"GET /shuttle/missions/sts-73/news HTTP/1.0\" 302 -'),\n",
              " Row(value='js002.cc.utsunomiya-u.ac.jp - - [01/Aug/1995:00:07:33 -0400] \"GET /shuttle/resources/orbiters/discovery.gif HTTP/1.0\" 404 -'),\n",
              " Row(value='tia1.eskimo.com - - [01/Aug/1995:00:28:41 -0400] \"GET /pub/winvn/release.txt HTTP/1.0\" 404 -'),\n",
              " Row(value='itws.info.eng.niigata-u.ac.jp - - [01/Aug/1995:00:38:01 -0400] \"GET /ksc.html/facts/about_ksc.html HTTP/1.0\" 403 -'),\n",
              " Row(value='grimnet23.idirect.com - - [01/Aug/1995:00:50:12 -0400] \"GET /www/software/winvn/winvn.html HTTP/1.0\" 404 -'),\n",
              " Row(value='miriworld.its.unimelb.edu.au - - [01/Aug/1995:01:04:54 -0400] \"GET /history/history.htm HTTP/1.0\" 404 -'),\n",
              " Row(value='ras38.srv.net - - [01/Aug/1995:01:05:14 -0400] \"GET /elv/DELTA/uncons.htm HTTP/1.0\" 404 -'),\n",
              " Row(value='cs1-06.leh.ptd.net - - [01/Aug/1995:01:17:38 -0400] \"GET /sts-71/launch/\" 404 -'),\n",
              " Row(value='www-b2.proxy.aol.com - - [01/Aug/1995:01:22:07 -0400] \"GET /shuttle/countdown HTTP/1.0\" 302 -'),\n",
              " Row(value='maui56.maui.net - - [01/Aug/1995:01:31:56 -0400] \"GET /shuttle HTTP/1.0\" 302 -')]"
            ]
          },
          "metadata": {
            "tags": []
          },
          "execution_count": 60
        }
      ]
    },
    {
      "cell_type": "code",
      "metadata": {
        "id": "fiFmuM-nfkqy",
        "colab_type": "code",
        "colab": {
          "base_uri": "https://localhost:8080/",
          "height": 180
        },
        "outputId": "babc31ac-2da6-4cfe-8d8f-5633c4d8a212"
      },
      "source": [
        "logs_df.head(10)"
      ],
      "execution_count": 61,
      "outputs": [
        {
          "output_type": "execute_result",
          "data": {
            "text/plain": [
              "[Row(host='in24.inetnebr.com', timestamp='01/Aug/1995:00:00:01 -0400', method='GET', endpoint='/shuttle/missions/sts-68/news/sts-68-mcc-05.txt', protocol='HTTP/1.0', status=200, content_size=1839),\n",
              " Row(host='uplherc.upl.com', timestamp='01/Aug/1995:00:00:07 -0400', method='GET', endpoint='/', protocol='HTTP/1.0', status=304, content_size=0),\n",
              " Row(host='uplherc.upl.com', timestamp='01/Aug/1995:00:00:08 -0400', method='GET', endpoint='/images/ksclogo-medium.gif', protocol='HTTP/1.0', status=304, content_size=0),\n",
              " Row(host='uplherc.upl.com', timestamp='01/Aug/1995:00:00:08 -0400', method='GET', endpoint='/images/MOSAIC-logosmall.gif', protocol='HTTP/1.0', status=304, content_size=0),\n",
              " Row(host='uplherc.upl.com', timestamp='01/Aug/1995:00:00:08 -0400', method='GET', endpoint='/images/USA-logosmall.gif', protocol='HTTP/1.0', status=304, content_size=0),\n",
              " Row(host='ix-esc-ca2-07.ix.netcom.com', timestamp='01/Aug/1995:00:00:09 -0400', method='GET', endpoint='/images/launch-logo.gif', protocol='HTTP/1.0', status=200, content_size=1713),\n",
              " Row(host='uplherc.upl.com', timestamp='01/Aug/1995:00:00:10 -0400', method='GET', endpoint='/images/WORLD-logosmall.gif', protocol='HTTP/1.0', status=304, content_size=0),\n",
              " Row(host='slppp6.intermind.net', timestamp='01/Aug/1995:00:00:10 -0400', method='GET', endpoint='/history/skylab/skylab.html', protocol='HTTP/1.0', status=200, content_size=1687),\n",
              " Row(host='piweba4y.prodigy.com', timestamp='01/Aug/1995:00:00:10 -0400', method='GET', endpoint='/images/launchmedium.gif', protocol='HTTP/1.0', status=200, content_size=11853),\n",
              " Row(host='slppp6.intermind.net', timestamp='01/Aug/1995:00:00:11 -0400', method='GET', endpoint='/history/skylab/skylab-small.gif', protocol='HTTP/1.0', status=200, content_size=9202)]"
            ]
          },
          "metadata": {
            "tags": []
          },
          "execution_count": 61
        }
      ]
    },
    {
      "cell_type": "code",
      "metadata": {
        "id": "IW-ReiQzfzbN",
        "colab_type": "code",
        "colab": {
          "base_uri": "https://localhost:8080/",
          "height": 131
        },
        "outputId": "802cd8f5-5313-40c0-f459-428ffe5d3636"
      },
      "source": [
        "logs_df.columns"
      ],
      "execution_count": 62,
      "outputs": [
        {
          "output_type": "execute_result",
          "data": {
            "text/plain": [
              "['host',\n",
              " 'timestamp',\n",
              " 'method',\n",
              " 'endpoint',\n",
              " 'protocol',\n",
              " 'status',\n",
              " 'content_size']"
            ]
          },
          "metadata": {
            "tags": []
          },
          "execution_count": 62
        }
      ]
    },
    {
      "cell_type": "code",
      "metadata": {
        "id": "dXgfA2jhlNgg",
        "colab_type": "code",
        "colab": {
          "base_uri": "https://localhost:8080/",
          "height": 33
        },
        "outputId": "cc2cc9f0-5a3a-4cba-bd4a-201b324370c3"
      },
      "source": [
        "count=col(\"status\").cast(\"integer\")\n",
        "print(count) "
      ],
      "execution_count": 83,
      "outputs": [
        {
          "output_type": "stream",
          "text": [
            "Column<b'CAST(status AS INT)'>\n"
          ],
          "name": "stdout"
        }
      ]
    },
    {
      "cell_type": "code",
      "metadata": {
        "id": "mmsfpFfxmt9c",
        "colab_type": "code",
        "colab": {
          "base_uri": "https://localhost:8080/",
          "height": 245
        },
        "outputId": "611bacf7-dc4e-4e4a-c865-da073d43c31a"
      },
      "source": [
        "#count = logs_df.status.value_counts() \n",
        "#print(count) \n",
        "\n",
        "logs_df.cube(\"status\").count().show()"
      ],
      "execution_count": 88,
      "outputs": [
        {
          "output_type": "stream",
          "text": [
            "+------+-------+\n",
            "|status|  count|\n",
            "+------+-------+\n",
            "|   302|  26497|\n",
            "|   200|1398988|\n",
            "|  null|1569898|\n",
            "|   501|     27|\n",
            "|   404|  10056|\n",
            "|   403|    171|\n",
            "|   304| 134146|\n",
            "|   500|      3|\n",
            "|   400|     10|\n",
            "+------+-------+\n",
            "\n"
          ],
          "name": "stdout"
        }
      ]
    },
    {
      "cell_type": "code",
      "metadata": {
        "id": "Ss5Z6-ZboZob",
        "colab_type": "code",
        "colab": {
          "base_uri": "https://localhost:8080/",
          "height": 245
        },
        "outputId": "02a593c7-5c1a-406c-cd44-93aac28f7fa9"
      },
      "source": [
        "pip install pyspark_dist_explore"
      ],
      "execution_count": 90,
      "outputs": [
        {
          "output_type": "stream",
          "text": [
            "Collecting pyspark_dist_explore\n",
            "  Downloading https://files.pythonhosted.org/packages/3c/33/2b6c29265413f2b56516caf02b8befbb6a79a1a3516d57bf1b0742a1be40/pyspark_dist_explore-0.1.8-py3-none-any.whl\n",
            "Requirement already satisfied: numpy in /usr/local/lib/python3.6/dist-packages (from pyspark_dist_explore) (1.18.5)\n",
            "Requirement already satisfied: matplotlib in /usr/local/lib/python3.6/dist-packages (from pyspark_dist_explore) (3.2.2)\n",
            "Requirement already satisfied: scipy in /usr/local/lib/python3.6/dist-packages (from pyspark_dist_explore) (1.4.1)\n",
            "Requirement already satisfied: pandas in /usr/local/lib/python3.6/dist-packages (from pyspark_dist_explore) (1.0.5)\n",
            "Requirement already satisfied: cycler>=0.10 in /usr/local/lib/python3.6/dist-packages (from matplotlib->pyspark_dist_explore) (0.10.0)\n",
            "Requirement already satisfied: python-dateutil>=2.1 in /usr/local/lib/python3.6/dist-packages (from matplotlib->pyspark_dist_explore) (2.8.1)\n",
            "Requirement already satisfied: pyparsing!=2.0.4,!=2.1.2,!=2.1.6,>=2.0.1 in /usr/local/lib/python3.6/dist-packages (from matplotlib->pyspark_dist_explore) (2.4.7)\n",
            "Requirement already satisfied: kiwisolver>=1.0.1 in /usr/local/lib/python3.6/dist-packages (from matplotlib->pyspark_dist_explore) (1.2.0)\n",
            "Requirement already satisfied: pytz>=2017.2 in /usr/local/lib/python3.6/dist-packages (from pandas->pyspark_dist_explore) (2018.9)\n",
            "Requirement already satisfied: six in /usr/local/lib/python3.6/dist-packages (from cycler>=0.10->matplotlib->pyspark_dist_explore) (1.12.0)\n",
            "Installing collected packages: pyspark-dist-explore\n",
            "Successfully installed pyspark-dist-explore-0.1.8\n"
          ],
          "name": "stdout"
        }
      ]
    },
    {
      "cell_type": "code",
      "metadata": {
        "id": "fRe7CzIaoPIC",
        "colab_type": "code",
        "colab": {
          "base_uri": "https://localhost:8080/",
          "height": 456
        },
        "outputId": "b66df8a8-79ff-43a1-e9cb-29c5828283c5"
      },
      "source": [
        "from pyspark_dist_explore import hist\n",
        "import matplotlib.pyplot as plt\n",
        "\n",
        "df=logs_df.cube(\"status\").count()\n",
        "\n",
        "fig, ax = plt.subplots()\n",
        "hist(ax, df, bins = 20)"
      ],
      "execution_count": 97,
      "outputs": [
        {
          "output_type": "execute_result",
          "data": {
            "text/plain": [
              "(array([[8., 0., 0., 0., 0., 0., 0., 0., 0., 0., 0., 0., 0., 0., 0., 0.,\n",
              "         0., 0., 0., 0.],\n",
              "        [6., 1., 0., 0., 0., 0., 0., 0., 0., 0., 0., 0., 0., 0., 0., 0.,\n",
              "         0., 1., 0., 1.]]),\n",
              " array([3.00000000e+00, 7.84977500e+04, 1.56992500e+05, 2.35487250e+05,\n",
              "        3.13982000e+05, 3.92476750e+05, 4.70971500e+05, 5.49466250e+05,\n",
              "        6.27961000e+05, 7.06455750e+05, 7.84950500e+05, 8.63445250e+05,\n",
              "        9.41940000e+05, 1.02043475e+06, 1.09892950e+06, 1.17742425e+06,\n",
              "        1.25591900e+06, 1.33441375e+06, 1.41290850e+06, 1.49140325e+06,\n",
              "        1.56989800e+06]),\n",
              " <a list of 2 Lists of Patches objects>)"
            ]
          },
          "metadata": {
            "tags": []
          },
          "execution_count": 97
        },
        {
          "output_type": "display_data",
          "data": {
            "image/png": "[encoded data removed]",
            "text/plain": [
              "<Figure size 432x288 with 1 Axes>"
            ]
          },
          "metadata": {
            "tags": [],
            "needs_background": "light"
          }
        }
      ]
    },
    {
      "cell_type": "code",
      "metadata": {
        "id": "Tr78onGXtULr",
        "colab_type": "code",
        "colab": {}
      },
      "source": [
        ""
      ],
      "execution_count": null,
      "outputs": []
    },
    {
      "cell_type": "code",
      "metadata": {
        "id": "QHHytwPco2C4",
        "colab_type": "code",
        "colab": {}
      },
      "source": [
        ""
      ],
      "execution_count": null,
      "outputs": []
    },
    {
      "cell_type": "code",
      "metadata": {
        "id": "GDngOxLaf5Oh",
        "colab_type": "code",
        "colab": {
          "base_uri": "https://localhost:8080/",
          "height": 163
        },
        "outputId": "89b691d7-b3d7-491a-d05c-23654e7c44b5"
      },
      "source": [
        "logs_df.printSchema()"
      ],
      "execution_count": 67,
      "outputs": [
        {
          "output_type": "stream",
          "text": [
            "root\n",
            " |-- host: string (nullable = true)\n",
            " |-- timestamp: string (nullable = true)\n",
            " |-- method: string (nullable = true)\n",
            " |-- endpoint: string (nullable = true)\n",
            " |-- protocol: string (nullable = true)\n",
            " |-- status: integer (nullable = true)\n",
            " |-- content_size: integer (nullable = true)\n",
            "\n"
          ],
          "name": "stdout"
        }
      ]
    },
    {
      "cell_type": "code",
      "metadata": {
        "id": "VTYsT5UogTN4",
        "colab_type": "code",
        "colab": {
          "base_uri": "https://localhost:8080/",
          "height": 33
        },
        "outputId": "a9ca43c3-a54a-4071-c2c2-83f86d254e0e"
      },
      "source": [
        "logs_df.freqItems"
      ],
      "execution_count": 71,
      "outputs": [
        {
          "output_type": "execute_result",
          "data": {
            "text/plain": [
              "<bound method DataFrame.freqItems of DataFrame[host: string, timestamp: string, method: string, endpoint: string, protocol: string, status: int, content_size: int]>"
            ]
          },
          "metadata": {
            "tags": []
          },
          "execution_count": 71
        }
      ]
    },
    {
      "cell_type": "code",
      "metadata": {
        "id": "ZCFL3Q-vhva2",
        "colab_type": "code",
        "colab": {
          "base_uri": "https://localhost:8080/",
          "height": 180
        },
        "outputId": "ed26f4dc-0142-4fa2-a782-914d38a18d8b"
      },
      "source": [
        "# Calculate statistics based on the content size.\n",
        "content_size_summary_df = logs_df.describe(['content_size'])\n",
        "content_size_summary_df.show()"
      ],
      "execution_count": 75,
      "outputs": [
        {
          "output_type": "stream",
          "text": [
            "+-------+-----------------+\n",
            "|summary|     content_size|\n",
            "+-------+-----------------+\n",
            "|  count|          1555720|\n",
            "|   mean| 17244.9678759674|\n",
            "| stddev|68244.03865948405|\n",
            "|    min|                0|\n",
            "|    max|          3421948|\n",
            "+-------+-----------------+\n",
            "\n"
          ],
          "name": "stdout"
        }
      ]
    },
    {
      "cell_type": "markdown",
      "metadata": {
        "id": "K80b09nNcTGP",
        "colab_type": "text"
      },
      "source": [
        "Reference\n",
        "1) https://opensource.com/article/19/5/log-data-apache-spark\n",
        "\n",
        "2) https://www.kaggle.com/vinzzhang/server-log-correlation\n",
        "\n",
        "3) https://databricks-prod-cloudfront.cloud.databricks.com/public/4027ec902e239c93eaaa8714f173bcfc/2799933550853697/4438435960036599/2202577924924539/latest.html\n"
      ]
    }
  ]
}